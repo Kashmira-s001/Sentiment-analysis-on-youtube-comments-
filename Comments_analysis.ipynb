{
  "cells": [
    {
      "cell_type": "markdown",
      "metadata": {
        "id": "AdhLIiUs-7Zy"
      },
      "source": [
        "Extracting comments from Youtube comment section"
      ]
    },
    {
      "cell_type": "code",
      "execution_count": 1,
      "metadata": {
        "colab": {
          "base_uri": "https://localhost:8080/"
        },
        "id": "Ib66gq5VAhYi",
        "outputId": "45d4d2b8-10dd-432c-b10a-57d0b55d990b"
      },
      "outputs": [
        {
          "output_type": "stream",
          "name": "stdout",
          "text": [
            "Comments saved to comments__InqQJRqGW4.xlsx\n"
          ]
        }
      ],
      "source": [
        "import os\n",
        "import json\n",
        "import pandas as pd\n",
        "from googleapiclient.discovery import build\n",
        "\n",
        "# Set your API key here\n",
        "API_KEY = 'Enter_Your_API_Key'\n",
        "\n",
        "# Create a YouTube resource object\n",
        "youtube = build('youtube', 'v3', developerKey=API_KEY)\n",
        "\n",
        "def get_video_comments(video_id):\n",
        "    comments = []\n",
        "    try:\n",
        "        # Retrieve the comments\n",
        "        response = youtube.commentThreads().list(\n",
        "            part='snippet',\n",
        "            videoId=video_id,\n",
        "            textFormat='plainText',\n",
        "            maxResults=100  # Change this if you want more comments in one call\n",
        "        ).execute()\n",
        "\n",
        "        # Loop through the response\n",
        "        while response:\n",
        "            for item in response['items']:\n",
        "                comment = item['snippet']['topLevelComment']['snippet']['textDisplay']\n",
        "                comments.append(comment)\n",
        "\n",
        "            # Check for more pages of comments\n",
        "            if 'nextPageToken' in response:\n",
        "                response = youtube.commentThreads().list(\n",
        "                    part='snippet',\n",
        "                    videoId=video_id,\n",
        "                    textFormat='plainText',\n",
        "                    pageToken=response['nextPageToken'],\n",
        "                    maxResults=100\n",
        "                ).execute()\n",
        "            else:\n",
        "                break\n",
        "\n",
        "    except Exception as e:\n",
        "        print(f\"An error occurred: {e}\")\n",
        "\n",
        "    return comments\n",
        "\n",
        "def save_comments_to_excel(comments, video_id):\n",
        "    # Create a DataFrame from the comments list\n",
        "    df = pd.DataFrame(comments, columns=['Comment'])\n",
        "\n",
        "    # Save the DataFrame to an Excel file\n",
        "    excel_file_name = f'comments_{video_id}.xlsx'\n",
        "    df.to_excel(excel_file_name, index=False)\n",
        "\n",
        "    print(f\"Comments saved to {excel_file_name}\")\n",
        "\n",
        "# Example usage\n",
        "video_id = '_InqQJRqGW4'  # Replace with your YouTube video ID\n",
        "comments = get_video_comments(video_id)\n",
        "\n",
        "# Save comments to Excel\n",
        "save_comments_to_excel(comments, video_id)\n"
      ]
    },
    {
      "cell_type": "markdown",
      "metadata": {
        "id": "NpRnkKLw1YU0"
      },
      "source": [
        "Data Preprocessing on the extracted comments"
      ]
    },
    {
      "cell_type": "code",
      "execution_count": 2,
      "metadata": {
        "id": "qk8iPJ_F1H97"
      },
      "outputs": [],
      "source": [
        "# importing libraries\n",
        "import pandas as pd\n",
        "import re\n",
        "import nltk\n",
        "from nltk.corpus import stopwords\n",
        "from nltk.tokenize import word_tokenize\n",
        "from nltk.stem import WordNetLemmatizer"
      ]
    },
    {
      "cell_type": "code",
      "execution_count": 4,
      "metadata": {
        "colab": {
          "base_uri": "https://localhost:8080/"
        },
        "id": "Cb2Lm4rW1fkc",
        "outputId": "c5d85f06-fdbd-4f96-b639-2e304acb898b"
      },
      "outputs": [
        {
          "output_type": "stream",
          "name": "stdout",
          "text": [
            "                                             Comment\n",
            "0                                     Anyone in 2025\n",
            "1                                       Anyone 2025❤\n",
            "2                           The Korean one is better\n",
            "3  I seen this series 9 or 10 times I love this s...\n",
            "4                               2025 Attendance Here\n"
          ]
        }
      ],
      "source": [
        "# Step 1: Load the Excel data\n",
        "file_path = \"/content/comments__InqQJRqGW4.xlsx\"\n",
        "df = pd.read_excel(file_path)\n",
        "\n",
        "# Check the first few rows to ensure the data is loaded correctly\n",
        "print(df.head())\n"
      ]
    },
    {
      "cell_type": "code",
      "execution_count": 5,
      "metadata": {
        "id": "xmdbqbnS2x5u"
      },
      "outputs": [],
      "source": [
        "# Step 2: Lowercase all comments\n",
        "df['Comment'] = df['Comment'].str.lower()\n"
      ]
    },
    {
      "cell_type": "code",
      "execution_count": 6,
      "metadata": {
        "id": "R7qjm8NY228x"
      },
      "outputs": [],
      "source": [
        "# Step 3: Remove special characters, punctuation, and URLs\n",
        "def clean_text(text):\n",
        "    # Remove URLs\n",
        "    text = re.sub(r\"http\\S+|www\\S+|https\\S+\", '', text, flags=re.MULTILINE)\n",
        "    # Remove mentions, hashtags, and special characters\n",
        "    text = re.sub(r'\\@\\w+|\\#|\\d+', '', text)\n",
        "    # Remove punctuations and numbers\n",
        "    text = re.sub(r'[^\\w\\s]', '', text)\n",
        "    return text\n",
        "\n",
        "cleaned_comments = [clean_text(comment) for comment in comments]"
      ]
    },
    {
      "cell_type": "code",
      "execution_count": 7,
      "metadata": {
        "colab": {
          "base_uri": "https://localhost:8080/"
        },
        "id": "ZP5_5eSR28jG",
        "outputId": "b09b8d7f-ebb3-4234-9102-d605fbff6486"
      },
      "outputs": [
        {
          "output_type": "stream",
          "name": "stdout",
          "text": [
            "Requirement already satisfied: nltk in /usr/local/lib/python3.11/dist-packages (3.9.1)\n",
            "Requirement already satisfied: click in /usr/local/lib/python3.11/dist-packages (from nltk) (8.1.8)\n",
            "Requirement already satisfied: joblib in /usr/local/lib/python3.11/dist-packages (from nltk) (1.4.2)\n",
            "Requirement already satisfied: regex>=2021.8.3 in /usr/local/lib/python3.11/dist-packages (from nltk) (2024.11.6)\n",
            "Requirement already satisfied: tqdm in /usr/local/lib/python3.11/dist-packages (from nltk) (4.67.1)\n"
          ]
        },
        {
          "output_type": "stream",
          "name": "stderr",
          "text": [
            "[nltk_data] Downloading package punkt to /root/nltk_data...\n",
            "[nltk_data]   Unzipping tokenizers/punkt.zip.\n",
            "[nltk_data] Downloading package punkt_tab to /root/nltk_data...\n",
            "[nltk_data]   Unzipping tokenizers/punkt_tab.zip.\n"
          ]
        }
      ],
      "source": [
        "# Step 4: Tokenization\n",
        "!pip install nltk\n",
        "import nltk\n",
        "nltk.download('punkt')\n",
        "nltk.download('punkt_tab') # Download the 'punkt_tab' data\n",
        "tokenized_comments = [word_tokenize(comment) for comment in cleaned_comments]"
      ]
    },
    {
      "cell_type": "code",
      "execution_count": 8,
      "metadata": {
        "colab": {
          "base_uri": "https://localhost:8080/"
        },
        "id": "K4R_P_fW3TUg",
        "outputId": "517b28dc-1602-4115-b062-382429210522"
      },
      "outputs": [
        {
          "output_type": "stream",
          "name": "stderr",
          "text": [
            "[nltk_data] Downloading package stopwords to /root/nltk_data...\n",
            "[nltk_data]   Unzipping corpora/stopwords.zip.\n"
          ]
        }
      ],
      "source": [
        "# Step 5: Remove stopwords\n",
        "nltk.download('stopwords')\n",
        "stop_words = set(stopwords.words('english'))"
      ]
    },
    {
      "cell_type": "code",
      "execution_count": 10,
      "metadata": {
        "id": "gPRypnZx3i3T"
      },
      "outputs": [],
      "source": [
        "filtered_comments = []\n",
        "for comment in tokenized_comments:\n",
        "    filtered_comments.append([word for word in comment if word not in stop_words])"
      ]
    },
    {
      "cell_type": "code",
      "execution_count": 11,
      "metadata": {
        "colab": {
          "base_uri": "https://localhost:8080/"
        },
        "id": "EkYCVwWb4cHz",
        "outputId": "2ab174ea-c8df-4ffb-df83-f03b85c16163"
      },
      "outputs": [
        {
          "output_type": "stream",
          "name": "stderr",
          "text": [
            "[nltk_data] Downloading package wordnet to /root/nltk_data...\n"
          ]
        }
      ],
      "source": [
        "# Step 6 : Lemmatization\n",
        "nltk.download('wordnet')\n",
        "lemmatizer = WordNetLemmatizer()\n",
        "lemmatized_comments = []\n",
        "for comment in filtered_comments:\n",
        "    lemmatized_comments.append([lemmatizer.lemmatize(word)\n",
        "     for word in comment])\n",
        "\n",
        "# Final Preprocessed Data\n",
        "preprocessed_comments = [\" \".join(comment)\n",
        " for comment in lemmatized_comments]"
      ]
    },
    {
      "cell_type": "code",
      "execution_count": 12,
      "metadata": {
        "colab": {
          "base_uri": "https://localhost:8080/"
        },
        "id": "xK_T3zHN4kqj",
        "outputId": "aea00bce-1d7e-4b96-ea31-f6771f2fc8bc"
      },
      "outputs": [
        {
          "output_type": "stream",
          "name": "stdout",
          "text": [
            "Preprocessing complete! Cleaned data saved to 'cleaned_comments_hinglish.csv'.\n"
          ]
        }
      ],
      "source": [
        "# Step 7: Save cleaned data back to Excel\n",
        "df['Cleaned_Comments'] = preprocessed_comments\n",
        "df.to_csv(\"cleaned_comments_hinglish.xlsx\", index=False)\n",
        "\n",
        "print(\"Preprocessing complete! Cleaned data saved to 'cleaned_comments_hinglish.csv'.\")"
      ]
    },
    {
      "cell_type": "markdown",
      "metadata": {
        "id": "YMMlPIt_5YGg"
      },
      "source": [
        "Implementing VADER (Valence Aware Dictionary and sEntiment Reasoner) for Sentiment Analysis :"
      ]
    },
    {
      "cell_type": "code",
      "execution_count": 13,
      "metadata": {
        "id": "VI1GpXL75C8-"
      },
      "outputs": [],
      "source": [
        "# importing libraries\n",
        "from nltk.sentiment.vader import SentimentIntensityAnalyzer"
      ]
    },
    {
      "cell_type": "code",
      "execution_count": 14,
      "metadata": {
        "id": "Oda7_vYI5y4h"
      },
      "outputs": [],
      "source": [
        "# Step 1: Load the cleaned data\n",
        "file_path = \"/content/cleaned_comments_hinglish.xlsx\"\n",
        "df = pd.read_csv(file_path)"
      ]
    },
    {
      "cell_type": "code",
      "execution_count": 15,
      "metadata": {
        "colab": {
          "base_uri": "https://localhost:8080/"
        },
        "id": "Vs7jw2x558CV",
        "outputId": "f95048d6-3639-43a6-ff28-56f30549d099"
      },
      "outputs": [
        {
          "output_type": "stream",
          "name": "stderr",
          "text": [
            "[nltk_data] Downloading package vader_lexicon to /root/nltk_data...\n"
          ]
        }
      ],
      "source": [
        "# Step 2: Initialize VADER sentiment analyzer\n",
        "nltk.download('vader_lexicon')\n",
        "sia = SentimentIntensityAnalyzer()"
      ]
    },
    {
      "cell_type": "code",
      "execution_count": 16,
      "metadata": {
        "id": "1DwWwaHe6Aqf"
      },
      "outputs": [],
      "source": [
        "# Step 3: Define a function to classify sentiment\n",
        "def classify_sentiment(comment):\n",
        "    # Convert comment to string if it's not already\n",
        "    comment = str(comment)\n",
        "    score = sia.polarity_scores(comment)\n",
        "    if score['compound'] > -0.01 and score['compound'] < 0.01:\n",
        "        return 'Neutral'\n",
        "    elif score['compound'] >= 0.01:\n",
        "        return 'Positive'\n",
        "    else :\n",
        "        return 'Negative'\n"
      ]
    },
    {
      "cell_type": "code",
      "execution_count": 17,
      "metadata": {
        "id": "EUBXc2iC6E86"
      },
      "outputs": [],
      "source": [
        "# Step 4: Apply sentiment classification to each cleaned comment\n",
        "df['Sentiment'] = df['Cleaned_Comments'].apply(classify_sentiment)"
      ]
    },
    {
      "cell_type": "code",
      "execution_count": 18,
      "metadata": {
        "colab": {
          "base_uri": "https://localhost:8080/"
        },
        "id": "Gvb6WDJJ6KXe",
        "outputId": "28062fa5-f5c6-43d0-99af-ec9c376fce54"
      },
      "outputs": [
        {
          "output_type": "stream",
          "name": "stdout",
          "text": [
            "Sentiment Counts:\n",
            "Sentiment\n",
            "Neutral     1174\n",
            "Positive    1067\n",
            "Negative     350\n",
            "Name: count, dtype: int64\n"
          ]
        }
      ],
      "source": [
        "# Step 5: Count the number of Positive,\n",
        "# Negative, and Neutral comments\n",
        "sentiment_counts = df['Sentiment'].value_counts()\n",
        "\n",
        "print(\"Sentiment Counts:\")\n",
        "print(sentiment_counts)"
      ]
    },
    {
      "cell_type": "code",
      "execution_count": 19,
      "metadata": {
        "colab": {
          "base_uri": "https://localhost:8080/"
        },
        "id": "wYDcqUgx0I0j",
        "outputId": "010a0364-890b-413b-c510-74c13f3f530e"
      },
      "outputs": [
        {
          "output_type": "stream",
          "name": "stdout",
          "text": [
            "Sentiment analysis complete! Results saved to 'comments_with_sentiment.csv'.\n"
          ]
        }
      ],
      "source": [
        "# Step 6: Save the results to a new Excel file\n",
        "df.to_csv(\"comments_with_sentiment.csv\", index=False)\n",
        "\n",
        "print(\"Sentiment analysis complete! Results saved to 'comments_with_sentiment.csv'.\")"
      ]
    },
    {
      "cell_type": "markdown",
      "metadata": {
        "id": "qeB3adrN6aEh"
      },
      "source": [
        "Visualization of sentiments"
      ]
    },
    {
      "cell_type": "code",
      "execution_count": 20,
      "metadata": {
        "id": "r0I1nvPv65SK"
      },
      "outputs": [],
      "source": [
        "import pandas as pd\n",
        "import matplotlib.pyplot as plt"
      ]
    },
    {
      "cell_type": "code",
      "execution_count": 21,
      "metadata": {
        "id": "cko8N8zd7Mf-"
      },
      "outputs": [],
      "source": [
        "# Load your balanced dataset\n",
        "df_balanced = pd.read_csv('/content/comments_with_sentiment.csv')\n",
        "\n",
        "# Count the number of sentiments\n",
        "sentiment_counts = df_balanced['Sentiment'].value_counts()"
      ]
    },
    {
      "cell_type": "code",
      "execution_count": 23,
      "metadata": {
        "colab": {
          "base_uri": "https://localhost:8080/",
          "height": 523
        },
        "id": "kmTZNGKB7SQY",
        "outputId": "2213df31-6cf6-43e6-ed41-d89432f5864f"
      },
      "outputs": [
        {
          "output_type": "display_data",
          "data": {
            "text/plain": [
              "<Figure size 400x600 with 1 Axes>"
            ],
            "image/png": "[encoded data removed]"
          },
          "metadata": {}
        }
      ],
      "source": [
        "# Create a pie chart\n",
        "plt.figure(figsize=(4, 6))\n",
        "plt.pie(sentiment_counts, labels=sentiment_counts.index, autopct='%0.2f%%', startangle=140, colors=['blue', 'green', 'red'])\n",
        "\n",
        "# Add title\n",
        "plt.title('Sentiment Distribution', fontsize=16)\n",
        "plt.axis('equal')  # Equal aspect ratio ensures that pie is drawn as a circle.\n",
        "\n",
        "# Show the plot\n",
        "\n",
        "plt.show()"
      ]
    },
    {
      "cell_type": "markdown",
      "metadata": {
        "id": "9ZQ6b_Wl8etg"
      },
      "source": [
        "Model Building : Random Forest"
      ]
    },
    {
      "cell_type": "code",
      "source": [
        "# Import necessary libraries\n",
        "import pandas as pd\n",
        "from sklearn.model_selection import train_test_split\n",
        "from sklearn.feature_extraction.text import TfidfVectorizer\n",
        "from sklearn.ensemble import RandomForestClassifier\n",
        "from sklearn.metrics import accuracy_score, confusion_matrix, classification_report\n",
        "import seaborn as sns\n",
        "import matplotlib.pyplot as plt"
      ],
      "metadata": {
        "id": "s289ndKfFyph"
      },
      "execution_count": 46,
      "outputs": []
    },
    {
      "cell_type": "code",
      "source": [
        "# Load your dataset (replace this with your actual dataset)\n",
        "df = pd.read_csv('/content/comments_with_sentiment.csv')\n",
        "\n",
        "# Step 1: Preprocess the data\n",
        "# Separate features (X) and target (y)\n",
        "X = df['Cleaned_Comments']\n",
        "y = df['Sentiment']"
      ],
      "metadata": {
        "id": "ScrbHyygF7n0"
      },
      "execution_count": 47,
      "outputs": []
    },
    {
      "cell_type": "code",
      "source": [
        "# Step 2: Encode labels\n",
        "\n",
        "from sklearn.preprocessing import LabelEncoder\n",
        "label_encoder = LabelEncoder()\n",
        "y_encoded = label_encoder.fit_transform(y)"
      ],
      "metadata": {
        "id": "rpBpRSr0GCjk"
      },
      "execution_count": 48,
      "outputs": []
    },
    {
      "cell_type": "code",
      "source": [
        "# Step 3: Split the data into training and testing sets\n",
        "X_train, X_test, y_train, y_test = train_test_split(X, y_encoded, test_size=0.2, random_state=42)"
      ],
      "metadata": {
        "id": "D-S82eNdGIcS"
      },
      "execution_count": 49,
      "outputs": []
    },
    {
      "cell_type": "code",
      "source": [
        "# *** Handle missing values in X_train and X_test ***\n",
        "X_train = X_train.fillna('')\n",
        "X_test = X_test.fillna('')"
      ],
      "metadata": {
        "id": "zeCxY2GJGOb0"
      },
      "execution_count": 51,
      "outputs": []
    },
    {
      "cell_type": "code",
      "source": [
        "# Step 4: Text vectorization using TF-IDF\n",
        "vectorizer = TfidfVectorizer(ngram_range=(1, 2), max_features=5000)\n",
        "X_train_tfidf = vectorizer.fit_transform(X_train)\n",
        "X_test_tfidf = vectorizer.transform(X_test)"
      ],
      "metadata": {
        "id": "KsZECcEZGRcU"
      },
      "execution_count": 52,
      "outputs": []
    },
    {
      "cell_type": "code",
      "source": [
        "# Step 5: Build the Random Forest model\n",
        "model = RandomForestClassifier(n_estimators=100, random_state=42)\n",
        "model.fit(X_train_tfidf, y_train)\n",
        "\n",
        "# Step 6: Make predictions\n",
        "y_pred = model.predict(X_test_tfidf)\n",
        "\n",
        "# Step 7: Evaluate the model\n",
        "# Decode labels back to their original form for interpretability\n",
        "y_test_decoded = label_encoder.inverse_transform(y_test)\n",
        "y_pred_decoded = label_encoder.inverse_transform(y_pred)"
      ],
      "metadata": {
        "id": "6yxM48GBGcvs"
      },
      "execution_count": 53,
      "outputs": []
    },
    {
      "cell_type": "code",
      "source": [
        "# Accuracy\n",
        "accuracy = accuracy_score(y_test, y_pred)\n",
        "print(f\"Accuracy: {accuracy * 100:.2f}%\")\n",
        "\n",
        "# Confusion matrix\n",
        "cm = confusion_matrix(y_test_decoded, y_pred_decoded, labels=label_encoder.classes_)\n",
        "print(\"\\nConfusion Matrix:\")\n",
        "print(cm)"
      ],
      "metadata": {
        "colab": {
          "base_uri": "https://localhost:8080/"
        },
        "id": "9Qdp2NVNGkLq",
        "outputId": "72803e71-425f-4cf6-eed3-d09accfec9d7"
      },
      "execution_count": 54,
      "outputs": [
        {
          "output_type": "stream",
          "name": "stdout",
          "text": [
            "Accuracy: 81.12%\n",
            "\n",
            "Confusion Matrix:\n",
            "[[ 25  25  21]\n",
            " [  0 219  10]\n",
            " [  6  36 177]]\n"
          ]
        }
      ]
    },
    {
      "cell_type": "code",
      "source": [
        "# Plot confusion matrix\n",
        "plt.figure(figsize=(8, 6))\n",
        "sns.heatmap(cm, annot=True, fmt='d', cmap='Blues', xticklabels=label_encoder.classes_, yticklabels=label_encoder.classes_)\n",
        "plt.xlabel('Predicted')\n",
        "plt.ylabel('Actual')\n",
        "plt.title('Confusion Matrix')\n",
        "plt.show()"
      ],
      "metadata": {
        "colab": {
          "base_uri": "https://localhost:8080/",
          "height": 564
        },
        "id": "NP19h86GG12V",
        "outputId": "b0d76f74-043e-40cd-9857-da8a7cb9ae71"
      },
      "execution_count": 55,
      "outputs": [
        {
          "output_type": "display_data",
          "data": {
            "text/plain": [
              "<Figure size 800x600 with 2 Axes>"
            ],
            "image/png": "[encoded data removed]"
          },
          "metadata": {}
        }
      ]
    },
    {
      "cell_type": "code",
      "source": [
        "# Classification report\n",
        "print(\"\\nClassification Report:\")\n",
        "print(classification_report(y_test_decoded, y_pred_decoded, target_names=label_encoder.classes_))"
      ],
      "metadata": {
        "colab": {
          "base_uri": "https://localhost:8080/"
        },
        "id": "By02lz9UCvG5",
        "outputId": "c32b11b7-d9fb-4e55-b811-29979f92d291"
      },
      "execution_count": 56,
      "outputs": [
        {
          "output_type": "stream",
          "name": "stdout",
          "text": [
            "\n",
            "Classification Report:\n",
            "              precision    recall  f1-score   support\n",
            "\n",
            "    Negative       0.81      0.35      0.49        71\n",
            "     Neutral       0.78      0.96      0.86       229\n",
            "    Positive       0.85      0.81      0.83       219\n",
            "\n",
            "    accuracy                           0.81       519\n",
            "   macro avg       0.81      0.71      0.73       519\n",
            "weighted avg       0.81      0.81      0.80       519\n",
            "\n"
          ]
        }
      ]
    }
  ],
  "metadata": {
    "colab": {
      "provenance": []
    },
    "kernelspec": {
      "display_name": "Python 3",
      "name": "python3"
    },
    "language_info": {
      "name": "python"
    }
  },
  "nbformat": 4,
  "nbformat_minor": 0
}